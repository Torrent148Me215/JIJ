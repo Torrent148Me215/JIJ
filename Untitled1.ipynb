{
 "cells": [
  {
   "cell_type": "code",
   "execution_count": 1,
   "metadata": {},
   "outputs": [
    {
     "name": "stdout",
     "output_type": "stream",
     "text": [
      "Help on module stan_utility:\n",
      "\n",
      "NAME\n",
      "    stan_utility\n",
      "\n",
      "FUNCTIONS\n",
      "    check_all_diagnostics(fit, max_treedepth=10, quiet=False)\n",
      "        Checks all MCMC diagnostics\n",
      "    \n",
      "    check_div(fit, quiet=False)\n",
      "        Check transitions that ended with a divergence\n",
      "    \n",
      "    check_energy(fit, quiet=False)\n",
      "        Checks the energy fraction of missing information (E-FMI)\n",
      "    \n",
      "    check_n_eff(fit, quiet=False)\n",
      "        Checks the effective sample size per iteration\n",
      "    \n",
      "    check_rhat(fit, quiet=False)\n",
      "        Checks the potential scale reduction factors\n",
      "    \n",
      "    check_treedepth(fit, max_treedepth=10, quiet=False)\n",
      "        Check transitions that ended prematurely due to maximum tree depth limit\n",
      "    \n",
      "    compile_model(filename, model_name=None, **kwargs)\n",
      "        This will automatically cache models - great if you're just running a\n",
      "        script on the command line.\n",
      "        \n",
      "        See http://pystan.readthedocs.io/en/latest/avoiding_recompilation.html\n",
      "    \n",
      "    parse_warning_code(warning_code)\n",
      "        Parses warning code into individual failures\n",
      "    \n",
      "    partition_div(fit)\n",
      "        Returns parameter arrays separated into divergent and non-divergent transitions\n",
      "\n",
      "FILE\n",
      "    c:\\users\\lucas\\desktop\\baysian workshop\\material\\day2\\222\\stan_utility.py\n",
      "\n",
      "\n"
     ]
    }
   ],
   "source": [
    "import matplotlib\n",
    "import matplotlib.pyplot as plot\n",
    "import numpy\n",
    "import scipy.stats as stats\n",
    "import multiprocessing\n",
    "import math\n",
    "\n",
    "import pystan\n",
    "import stan_utility\n",
    "\n",
    "help(stan_utility)\n",
    "\n",
    "light=\"#DCBCBC\"\n",
    "light_highlight=\"#C79999\"\n",
    "mid=\"#B97C7C\"\n",
    "mid_highlight=\"#A25050\"\n",
    "dark=\"#8F2727\"\n",
    "dark_highlight=\"#7C0000\"\n",
    "green=\"#00FF00\""
   ]
  },
  {
   "cell_type": "code",
   "execution_count": 2,
   "metadata": {},
   "outputs": [
    {
     "name": "stdout",
     "output_type": "stream",
     "text": [
      "data{\n",
      "\n",
      "    int N;\n",
      "\n",
      "    int y[N];\n",
      "\n",
      "}\n",
      "\n"
     ]
    }
   ],
   "source": [
    "with open('fit_data2.stan','r') as file:\n",
    "     lines = file.readlines()[0:4]\n",
    "     for line in lines:\n",
    "            print(line)\n",
    "\n",
    "            "
   ]
  },
  {
   "cell_type": "code",
   "execution_count": 3,
   "metadata": {},
   "outputs": [
    {
     "name": "stdout",
     "output_type": "stream",
     "text": [
      "data{\n",
      "\tint N;\n",
      "}\n",
      "\n",
      "generated quantities {\n",
      "\treal< lower = 0, upper = 1 > theta = beta_rng(2.8663,2.8663); \n",
      "\treal< lower = 0 > lambda = inv_gamma_rng(3.48681, 9.21604);\n",
      "\n",
      "\tint y [N] = rep_array(0, N);\n",
      "\tfor(n in 1:N)\n",
      "\t\tif (!bernoulli_rng(theta))\n",
      "\t\t\ty[n] = poisson_rng(lambda);\n",
      "}\n",
      "data{\n",
      "    int N;\n",
      "    int y[N];\n",
      "}\n",
      "\n",
      "parameters{\n",
      "    real<lower=0, upper=1> theta;\n",
      "    real<lower=0> lambda;\n",
      "}\n",
      "\n",
      "model{\n",
      "    theta ~ beta(2.8663,2.8663);\n",
      "    lambda ~ inv_gamma(3.48681,9.21604);\n",
      "    for (n in 1:N){\n",
      "      real lpdf = poisson_lpmf(y[n]|lambda);\n",
      "      if (y[n] == 0)\n",
      "        target += log_mix(theta,0,lpdf);\n",
      "      else\n",
      "        target += log(1-theta) + lpdf;\n",
      "    }\n",
      "    \n",
      "}\n",
      "\n"
     ]
    }
   ],
   "source": [
    "with open('generative_ensemble2.stan','r') as file:\n",
    "    print(file.read())\n",
    "with open('fit_data2.stan','r') as file:\n",
    "    print(file.read())"
   ]
  },
  {
   "cell_type": "code",
   "execution_count": 4,
   "metadata": {},
   "outputs": [],
   "source": [
    "R = 1000 # 1000 draws from the Bayesian joint distribution\n",
    "N = 100"
   ]
  },
  {
   "cell_type": "code",
   "execution_count": null,
   "metadata": {},
   "outputs": [
    {
     "name": "stderr",
     "output_type": "stream",
     "text": [
      "INFO:pystan:COMPILING THE C++ CODE FOR MODEL anon_model_6f016e1755c359a32fa06ca4ea1ac31c NOW.\n"
     ]
    }
   ],
   "source": [
    "simu_data = dict(N = N)\n",
    "model = stan_utility.compile_model('generative_ensemble2.stan')\n",
    "fit = model.sampling(data=simu_data,\n",
    "                    iter=R,warmup=0,chains=1,refresh=R,\n",
    "                    seed=4838282,algorithm='Fixed_param')\n",
    "\n"
   ]
  },
  {
   "cell_type": "code",
   "execution_count": null,
   "metadata": {},
   "outputs": [],
   "source": [
    "simu_lambdas = fit.extract()['lambda']\n",
    "simu_thetas = fit.extract()['theta']\n",
    "simu_ys = fit.extract()['y'].astype(numpy.int64)"
   ]
  },
  {
   "cell_type": "code",
   "execution_count": null,
   "metadata": {},
   "outputs": [],
   "source": [
    "max_y = 40\n",
    "B = max_y + 1\n",
    "\n",
    "bins = [b - 0.5 for b in range(B + 1)]\n",
    "\n",
    "counts = [numpy.histogram(simu_ys[r], bins=bins)[0] for r in range(R)]\n",
    "probs = [10, 20, 30, 40, 50, 60, 70, 80, 90]\n",
    "creds = [numpy.percentile([count[b] for count in counts], probs)\n",
    "         for b in range(B)]\n",
    "\n",
    "idxs = [ idx for idx in range(B) for r in range(2) ]\n",
    "xs = [ idx + delta for idx in range(B) for delta in [-0.5, 0.5]]\n",
    "      \n",
    "pad_creds = [ creds[idx] for idx in idxs ]\n",
    "\n",
    "plot.fill_between(xs, [c[0] for c in pad_creds], [c[8] for c in pad_creds],\n",
    "                  facecolor=light, color=light)\n",
    "plot.fill_between(xs, [c[0] for c in pad_creds], [c[7] for c in pad_creds],\n",
    "                  facecolor=light_highlight, color=light_highlight)\n",
    "plot.fill_between(xs, [c[2] for c in pad_creds], [c[6] for c in pad_creds],\n",
    "                  facecolor=mid, color=mid)\n",
    "plot.fill_between(xs, [c[3] for c in pad_creds], [c[5] for c in pad_creds],\n",
    "                  facecolor=mid_highlight, color=mid_highlight)\n",
    "plot.plot(xs, [c[4] for c in pad_creds], color=dark)\n",
    "\n",
    "plot.gca().set_xlim([min(bins), max(bins)])\n",
    "plot.gca().set_xlabel(\"y\")\n",
    "plot.gca().set_ylim([0, max([c[8] for c in creds])])\n",
    "plot.gca().set_ylabel(\"Prior Predictive Distribution\")\n",
    "\n",
    "plot.axvline(x=25, linewidth=2.5, color=\"white\")\n",
    "plot.axvline(x=25, linewidth=2, color=\"black\")\n",
    "\n",
    "plot.show()\n",
    "\n"
   ]
  },
  {
   "cell_type": "code",
   "execution_count": null,
   "metadata": {},
   "outputs": [],
   "source": [
    "alpha = 2.8663\n",
    "beta = 2.8663\n",
    "sd_beta = numpy.sqrt((alpha*beta)/((alpha+beta)**2 * (alpha+beta+1) ))\n",
    "print (sd_beta)"
   ]
  },
  {
   "cell_type": "code",
   "execution_count": null,
   "metadata": {},
   "outputs": [],
   "source": [
    "alpha = 3.48681\n",
    "beta = 9.21604\n",
    "sd_inv_gamma = numpy.sqrt(beta**2/((alpha-1)**2 * (alpha - 2)**2))\n",
    "print (sd_inv_gamma)"
   ]
  },
  {
   "cell_type": "code",
   "execution_count": null,
   "metadata": {},
   "outputs": [],
   "source": [
    "simus = zip(simu_lambdas,simu_thetas, simu_ys)\n",
    "fit_model = stan_utility.compile_model('fit_data2.stan')"
   ]
  },
  {
   "cell_type": "code",
   "execution_count": null,
   "metadata": {},
   "outputs": [],
   "source": [
    "def analyze_simu(simu):\n",
    "    simu_l = simu[0]\n",
    "    simu_t = simu[1]\n",
    "    simu_y = simu[2]\n",
    "    \n",
    "    # Fit the simulated observation\n",
    "    input_data = dict(N = N, y = simu_y)\n",
    "    \n",
    "    fit = fit_model.sampling(data=input_data, seed=4938483, n_jobs=1)\n",
    "    \n",
    "    # Compute diagnostics\n",
    "    warning_code = stan_utility.check_all_diagnostics(fit, quiet=True)\n",
    "    \n",
    "    # Compute rank of prior draw with respect to thinned posterior draws\n",
    "    thinned_l = fit.extract()['lambda'][numpy.arange(0, 4000 - 7, 8)]\n",
    "    sbc_rank_l = len(filter(lambda x: x > simu_l, thinned_l))\n",
    "    \n",
    "    thinned_t = fit.extract()['theta'][numpy.arange(0, 4000 - 7, 8)]\n",
    "    sbc_rank_t = len(filter(lambda x: x > simu_t, thinned_t))    \n",
    "    \n",
    "    # Compute posterior sensitivities\n",
    "    summary = fit.summary(probs=[0.5])\n",
    "    post_mean_l = [x[0] for x in summary['summary']][0]\n",
    "    post_sd_l = [x[2] for x in summary['summary']][0]\n",
    "    \n",
    "    post_mean_t = [x[0] for x in summary['summary']][1]\n",
    "    post_sd_t = [x[2] for x in summary['summary']][1]    \n",
    "    \n",
    "    \n",
    "    alpha = 2.8663\n",
    "    beta = 2.8663\n",
    "    prior_sd_t = numpy.sqrt((alpha*beta)/((alpha+beta)**2 * (alpha+beta+1) ))\n",
    "    \n",
    "    alpha = 3.48681\n",
    "    beta = 9.21604\n",
    "    prior_sd_l = numpy.sqrt(beta**2/((alpha-1)**2 * (alpha - 2)**2))\n",
    "    \n",
    "    z_score_l = (post_mean_l - simu_l) / post_sd_l\n",
    "    shrinkage_l = 1 - (post_sd_l / prior_sd_l)**2\n",
    "    \n",
    "    z_score_t = (post_mean_t - simu_t) / post_sd_t\n",
    "    shrinkage_t = 1 - (post_sd_t / prior_sd_t)**2    \n",
    "    \n",
    "    \n",
    "    return [warning_code, sbc_rank_l, z_score_l, shrinkage_l,sbc_rank_t, z_score_t, shrinkage_t]"
   ]
  },
  {
   "cell_type": "code",
   "execution_count": null,
   "metadata": {},
   "outputs": [],
   "source": [
    "pool = multiprocessing.Pool(4)\n",
    "ensemble_output = pool.map(analyze_simu, simus)"
   ]
  },
  {
   "cell_type": "code",
   "execution_count": null,
   "metadata": {},
   "outputs": [],
   "source": [
    "# Check for fit diagnostics\n",
    "warning_codes = [x[0] for x in ensemble_output]\n",
    "if sum(warning_codes) is not 0:\n",
    "    print (\"Some posterior fits in the generative \" +\n",
    "           \"ensemble encountered problems!\")\n",
    "    for r in range(R):\n",
    "        if warning_codes[r] is not 0:\n",
    "            print('Replication {} of {}'.format(r, R))\n",
    "            print('Simulated lambda = {}'.format(simu_lambdas[r]))\n",
    "            stan_utility.parse_warning_code(warning_codes[r])\n",
    "            print(\"\")\n",
    "else:\n",
    "    print (\"No posterior fits in the generative \" +\n",
    "           \"ensemble encountered problems!\")"
   ]
  },
  {
   "cell_type": "code",
   "execution_count": null,
   "metadata": {},
   "outputs": [],
   "source": [
    "sbc_low = stats.binom.ppf(0.005, R, 25.0 / 500)\n",
    "sbc_mid = stats.binom.ppf(0.5, R, 25.0 / 500)\n",
    "sbc_high = stats.binom.ppf(0.995, R, 25.0 / 500)\n",
    "\n",
    "bar_x = [-10, 510, 500, 510, -10, 0, -10]\n",
    "bar_y = [sbc_high, sbc_high, sbc_mid, sbc_low, sbc_low, sbc_mid, sbc_high]\n",
    "\n",
    "plot.fill(bar_x, bar_y, color=\"#DDDDDD\", ec=\"#DDDDDD\")\n",
    "plot.plot([0, 500], [sbc_mid, sbc_mid], color=\"#999999\", linewidth=2)\n",
    "\n",
    "sbc_ranks = [x[4] for x in ensemble_output]\n",
    "\n",
    "plot.hist(sbc_ranks, bins=[25 * x - 0.5 for x in range(21)],\n",
    "          color=dark, ec=dark_highlight, zorder=3)\n",
    "\n",
    "plot.gca().set_xlabel(\"Prior Rank for lambda\")\n",
    "plot.gca().set_xlim(-10, 510)\n",
    "plot.gca().axes.get_yaxis().set_visible(False)\n",
    "\n",
    "plot.show()"
   ]
  },
  {
   "cell_type": "code",
   "execution_count": null,
   "metadata": {},
   "outputs": [],
   "source": [
    "data = pystan.read_rdump('workflow.data.R')\n",
    "\n",
    "model = stan_utility.compile_model('fit_data_ppc2.stan')\n",
    "fit = model.sampling(data=data, seed=4838282)\n",
    "\n",
    "# Check diagnostics\n"
   ]
  },
  {
   "cell_type": "code",
   "execution_count": null,
   "metadata": {},
   "outputs": [],
   "source": [
    "stan_utility.check_all_diagnostics(fit)\n",
    "\n",
    "# Plot marginal posterior\n",
    "params = fit.extract()\n",
    "\n",
    "plot.hist(params['lambda'], bins = 25, color = dark, ec = dark_highlight)\n",
    "plot.gca().set_xlabel(\"lambda\")\n",
    "plot.gca().axes.get_yaxis().set_visible(False)\n",
    "plot.show()"
   ]
  },
  {
   "cell_type": "code",
   "execution_count": null,
   "metadata": {},
   "outputs": [],
   "source": [
    "params = fit.extract()\n",
    "\n",
    "plot.hist(params['theta'], bins = 25, color = dark, ec = dark_highlight)\n",
    "plot.gca().set_xlabel(\"theta\")\n",
    "plot.gca().axes.get_yaxis().set_visible(False)\n",
    "plot.show()"
   ]
  },
  {
   "cell_type": "code",
   "execution_count": null,
   "metadata": {},
   "outputs": [],
   "source": [
    "max_y = 40\n",
    "B = max_y + 1\n",
    "\n",
    "bins = [b - 0.5 for b in range(B + 1)]\n",
    "\n",
    "idxs = [ idx for idx in range(B) for r in range(2) ]\n",
    "xs = [ idx + delta for idx in range(B) for delta in [-0.5, 0.5]]\n",
    "      \n",
    "obs_counts = numpy.histogram(data['y'], bins=bins)[0]\n",
    "pad_obs_counts = [ obs_counts[idx] for idx in idxs ]\n",
    "\n",
    "counts = [numpy.histogram(params['y_ppc'][n], bins=bins)[0] for n in range(4000)]\n",
    "probs = [10, 20, 30, 40, 50, 60, 70, 80, 90]\n",
    "creds = [numpy.percentile([count[b] for count in counts], probs)\n",
    "         for b in range(B)]\n",
    "pad_creds = [ creds[idx] for idx in idxs ]\n",
    "\n",
    "plot.fill_between(xs, [c[0] for c in pad_creds], [c[8] for c in pad_creds],\n",
    "                  facecolor=light, color=light)\n",
    "plot.fill_between(xs, [c[1] for c in pad_creds], [c[7] for c in pad_creds],\n",
    "                  facecolor=light_highlight, color=light_highlight)\n",
    "plot.fill_between(xs, [c[2] for c in pad_creds], [c[6] for c in pad_creds],\n",
    "                  facecolor=mid, color=mid)\n",
    "plot.fill_between(xs, [c[3] for c in pad_creds], [c[5] for c in pad_creds],\n",
    "                  facecolor=mid_highlight, color=mid_highlight)\n",
    "plot.plot(xs, [c[4] for c in pad_creds], color=dark)\n",
    "\n",
    "plot.plot(xs, pad_obs_counts, linewidth=2.5, color=\"white\")\n",
    "plot.plot(xs, pad_obs_counts, linewidth=2.0, color=\"black\")\n",
    "\n",
    "plot.gca().set_xlim([min(bins), max(bins)])\n",
    "plot.gca().set_xlabel(\"y\")\n",
    "plot.gca().set_ylim([0, max(max(obs_counts), max([c[8] for c in creds]))])\n",
    "plot.gca().set_ylabel(\"Posterior Predictive Distribution\")\n",
    "\n",
    "plot.show()\n",
    "\n",
    "# The posterior predictive check indicates a serious\n",
    "# excess of zeros above what we'd expect from a Poisson\n",
    "# model.  Hence we want to expand our model to include\n",
    "# zero-inflation and repeat the workflow.\n"
   ]
  }
 ],
 "metadata": {
  "kernelspec": {
   "display_name": "Python 3",
   "language": "python",
   "name": "python3"
  },
  "language_info": {
   "codemirror_mode": {
    "name": "ipython",
    "version": 3
   },
   "file_extension": ".py",
   "mimetype": "text/x-python",
   "name": "python",
   "nbconvert_exporter": "python",
   "pygments_lexer": "ipython3",
   "version": "3.6.5"
  }
 },
 "nbformat": 4,
 "nbformat_minor": 2
}
